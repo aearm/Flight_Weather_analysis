{
 "cells": [
  {
   "cell_type": "markdown",
   "metadata": {},
   "source": [
    "## Flight Delay Predictions\n",
    "### 1. Introduction \n",
    "Predicting the flights that are most likely to be delayed will help the airline company to promote customer satisfaction and prevent dissatisfied customer experience.\n",
    "This Jupyter notebook presents all the steps that have been taken to analysis, and predict the flight delay for Compass airlines."
   ]
  },
  {
   "cell_type": "markdown",
   "metadata": {},
   "source": [
    "### 2. The Dataset\n",
    "The data for this assignment consists of two datasets:\n",
    "1. Flight performance data at Highland airport in December 2019.\n",
    "2. Historical weather data in December 2019.\n",
    "Data dictionaries are provided for each dataset in `.txt` files"
   ]
  },
  {
   "cell_type": "markdown",
   "metadata": {},
   "source": [
    "### 3. Data preprocessing and merging"
   ]
  },
  {
   "cell_type": "markdown",
   "metadata": {},
   "source": [
    "#### Setup\n",
    "import the necessary libraries to read the data files and explor the data."
   ]
  },
  {
   "cell_type": "code",
   "execution_count": 1,
   "metadata": {},
   "outputs": [],
   "source": [
    "## import libraries \n",
    "import pandas as pd\n",
    "import matplotlib.pylab as plt\n",
    "%matplotlib inline\n",
    "import datetime\n",
    "import datetime, warnings, scipy\n",
    "import seaborn as sns\n",
    "from datetime import timedelta\n",
    "import numpy as np\n"
   ]
  },
  {
   "cell_type": "markdown",
   "metadata": {},
   "source": [
    "#### Flight Data \n",
    "1. Load the flight data\n",
    "2. Check the shape of the dataset and explore the types of columns\n",
    "3. Perform the basic statistics on the features to get a sense of feature means and ranges.\n"
   ]
  },
  {
   "cell_type": "code",
   "execution_count": 2,
   "metadata": {},
   "outputs": [
    {
     "name": "stdout",
     "output_type": "stream",
     "text": [
      "Dataframe dimensions: (65669, 18)\n",
      "<class 'pandas.core.frame.DataFrame'>\n",
      "RangeIndex: 65669 entries, 0 to 65668\n",
      "Data columns (total 18 columns):\n",
      " #   Column                    Non-Null Count  Dtype         \n",
      "---  ------                    --------------  -----         \n",
      " 0   Airline                   65669 non-null  object        \n",
      " 1   Flight_Number             65669 non-null  int64         \n",
      " 2   Plane_ID                  65669 non-null  object        \n",
      " 3   FlightDate                65669 non-null  datetime64[ns]\n",
      " 4   Origin_Airport            65669 non-null  object        \n",
      " 5   Destination_Airport       65669 non-null  object        \n",
      " 6   Flight_Distance           65669 non-null  float64       \n",
      " 7   Scheduled_Departure_Time  65669 non-null  int64         \n",
      " 8   Actual_Departure_Time     65669 non-null  float64       \n",
      " 9   Departure_Delay_Minutes   65669 non-null  float64       \n",
      " 10  Departure_Taxi            65669 non-null  float64       \n",
      " 11  Departure_WheelsOff       65669 non-null  float64       \n",
      " 12  Scheduled_Arrival_Time    65669 non-null  int64         \n",
      " 13  Actual_Arrival_Time       65669 non-null  float64       \n",
      " 14  Arrival_Delay_Minutes     65669 non-null  float64       \n",
      " 15  Arrival_Taxi              65669 non-null  float64       \n",
      " 16  Arrival_WheelsOn          65669 non-null  float64       \n",
      " 17  Delay_Reason              14081 non-null  object        \n",
      "dtypes: datetime64[ns](1), float64(9), int64(3), object(5)\n",
      "memory usage: 9.0+ MB\n"
     ]
    },
    {
     "data": {
      "text/html": [
       "<div>\n",
       "<style scoped>\n",
       "    .dataframe tbody tr th:only-of-type {\n",
       "        vertical-align: middle;\n",
       "    }\n",
       "\n",
       "    .dataframe tbody tr th {\n",
       "        vertical-align: top;\n",
       "    }\n",
       "\n",
       "    .dataframe thead th {\n",
       "        text-align: right;\n",
       "    }\n",
       "</style>\n",
       "<table border=\"1\" class=\"dataframe\">\n",
       "  <thead>\n",
       "    <tr style=\"text-align: right;\">\n",
       "      <th></th>\n",
       "      <th>Flight_Number</th>\n",
       "      <th>Flight_Distance</th>\n",
       "      <th>Scheduled_Departure_Time</th>\n",
       "      <th>Actual_Departure_Time</th>\n",
       "      <th>Departure_Delay_Minutes</th>\n",
       "      <th>Departure_Taxi</th>\n",
       "      <th>Departure_WheelsOff</th>\n",
       "      <th>Scheduled_Arrival_Time</th>\n",
       "      <th>Actual_Arrival_Time</th>\n",
       "      <th>Arrival_Delay_Minutes</th>\n",
       "      <th>Arrival_Taxi</th>\n",
       "      <th>Arrival_WheelsOn</th>\n",
       "    </tr>\n",
       "  </thead>\n",
       "  <tbody>\n",
       "    <tr>\n",
       "      <th>count</th>\n",
       "      <td>65669.000000</td>\n",
       "      <td>65669.000000</td>\n",
       "      <td>65669.000000</td>\n",
       "      <td>65669.000000</td>\n",
       "      <td>65669.000000</td>\n",
       "      <td>65669.000000</td>\n",
       "      <td>65669.000000</td>\n",
       "      <td>65669.000000</td>\n",
       "      <td>65669.000000</td>\n",
       "      <td>6.566900e+04</td>\n",
       "      <td>65669.000000</td>\n",
       "      <td>65669.000000</td>\n",
       "    </tr>\n",
       "    <tr>\n",
       "      <th>mean</th>\n",
       "      <td>4272.493170</td>\n",
       "      <td>692.798048</td>\n",
       "      <td>1305.444867</td>\n",
       "      <td>1314.054866</td>\n",
       "      <td>16.243052</td>\n",
       "      <td>21.114818</td>\n",
       "      <td>1344.385601</td>\n",
       "      <td>1471.367723</td>\n",
       "      <td>1461.438563</td>\n",
       "      <td>3.259466e+02</td>\n",
       "      <td>9.916460</td>\n",
       "      <td>1454.118153</td>\n",
       "    </tr>\n",
       "    <tr>\n",
       "      <th>std</th>\n",
       "      <td>1584.708511</td>\n",
       "      <td>502.328564</td>\n",
       "      <td>474.893882</td>\n",
       "      <td>484.243154</td>\n",
       "      <td>58.783502</td>\n",
       "      <td>11.900324</td>\n",
       "      <td>485.546072</td>\n",
       "      <td>504.200205</td>\n",
       "      <td>517.654681</td>\n",
       "      <td>1.929424e+04</td>\n",
       "      <td>7.789556</td>\n",
       "      <td>512.854299</td>\n",
       "    </tr>\n",
       "    <tr>\n",
       "      <th>min</th>\n",
       "      <td>1321.000000</td>\n",
       "      <td>67.000000</td>\n",
       "      <td>1.000000</td>\n",
       "      <td>1.000000</td>\n",
       "      <td>0.000000</td>\n",
       "      <td>1.000000</td>\n",
       "      <td>1.000000</td>\n",
       "      <td>1.000000</td>\n",
       "      <td>1.000000</td>\n",
       "      <td>0.000000e+00</td>\n",
       "      <td>1.000000</td>\n",
       "      <td>1.000000</td>\n",
       "    </tr>\n",
       "    <tr>\n",
       "      <th>25%</th>\n",
       "      <td>2810.000000</td>\n",
       "      <td>299.000000</td>\n",
       "      <td>907.000000</td>\n",
       "      <td>917.000000</td>\n",
       "      <td>0.000000</td>\n",
       "      <td>14.000000</td>\n",
       "      <td>936.000000</td>\n",
       "      <td>1107.000000</td>\n",
       "      <td>1101.000000</td>\n",
       "      <td>0.000000e+00</td>\n",
       "      <td>5.000000</td>\n",
       "      <td>1056.000000</td>\n",
       "    </tr>\n",
       "    <tr>\n",
       "      <th>50%</th>\n",
       "      <td>4626.000000</td>\n",
       "      <td>599.000000</td>\n",
       "      <td>1304.000000</td>\n",
       "      <td>1313.000000</td>\n",
       "      <td>0.000000</td>\n",
       "      <td>18.000000</td>\n",
       "      <td>1329.000000</td>\n",
       "      <td>1455.000000</td>\n",
       "      <td>1454.000000</td>\n",
       "      <td>0.000000e+00</td>\n",
       "      <td>8.000000</td>\n",
       "      <td>1449.000000</td>\n",
       "    </tr>\n",
       "    <tr>\n",
       "      <th>75%</th>\n",
       "      <td>5420.000000</td>\n",
       "      <td>888.000000</td>\n",
       "      <td>1718.000000</td>\n",
       "      <td>1727.000000</td>\n",
       "      <td>7.000000</td>\n",
       "      <td>25.000000</td>\n",
       "      <td>1743.000000</td>\n",
       "      <td>1850.000000</td>\n",
       "      <td>1856.000000</td>\n",
       "      <td>1.000000e+01</td>\n",
       "      <td>12.000000</td>\n",
       "      <td>1848.000000</td>\n",
       "    </tr>\n",
       "    <tr>\n",
       "      <th>max</th>\n",
       "      <td>7613.000000</td>\n",
       "      <td>4243.000000</td>\n",
       "      <td>2359.000000</td>\n",
       "      <td>2400.000000</td>\n",
       "      <td>2710.000000</td>\n",
       "      <td>157.000000</td>\n",
       "      <td>2400.000000</td>\n",
       "      <td>2359.000000</td>\n",
       "      <td>2400.000000</td>\n",
       "      <td>2.510000e+06</td>\n",
       "      <td>160.000000</td>\n",
       "      <td>2400.000000</td>\n",
       "    </tr>\n",
       "  </tbody>\n",
       "</table>\n",
       "</div>"
      ],
      "text/plain": [
       "       Flight_Number  Flight_Distance  Scheduled_Departure_Time  \\\n",
       "count   65669.000000     65669.000000              65669.000000   \n",
       "mean     4272.493170       692.798048               1305.444867   \n",
       "std      1584.708511       502.328564                474.893882   \n",
       "min      1321.000000        67.000000                  1.000000   \n",
       "25%      2810.000000       299.000000                907.000000   \n",
       "50%      4626.000000       599.000000               1304.000000   \n",
       "75%      5420.000000       888.000000               1718.000000   \n",
       "max      7613.000000      4243.000000               2359.000000   \n",
       "\n",
       "       Actual_Departure_Time  Departure_Delay_Minutes  Departure_Taxi  \\\n",
       "count           65669.000000             65669.000000    65669.000000   \n",
       "mean             1314.054866                16.243052       21.114818   \n",
       "std               484.243154                58.783502       11.900324   \n",
       "min                 1.000000                 0.000000        1.000000   \n",
       "25%               917.000000                 0.000000       14.000000   \n",
       "50%              1313.000000                 0.000000       18.000000   \n",
       "75%              1727.000000                 7.000000       25.000000   \n",
       "max              2400.000000              2710.000000      157.000000   \n",
       "\n",
       "       Departure_WheelsOff  Scheduled_Arrival_Time  Actual_Arrival_Time  \\\n",
       "count         65669.000000            65669.000000         65669.000000   \n",
       "mean           1344.385601             1471.367723          1461.438563   \n",
       "std             485.546072              504.200205           517.654681   \n",
       "min               1.000000                1.000000             1.000000   \n",
       "25%             936.000000             1107.000000          1101.000000   \n",
       "50%            1329.000000             1455.000000          1454.000000   \n",
       "75%            1743.000000             1850.000000          1856.000000   \n",
       "max            2400.000000             2359.000000          2400.000000   \n",
       "\n",
       "       Arrival_Delay_Minutes  Arrival_Taxi  Arrival_WheelsOn  \n",
       "count           6.566900e+04  65669.000000      65669.000000  \n",
       "mean            3.259466e+02      9.916460       1454.118153  \n",
       "std             1.929424e+04      7.789556        512.854299  \n",
       "min             0.000000e+00      1.000000          1.000000  \n",
       "25%             0.000000e+00      5.000000       1056.000000  \n",
       "50%             0.000000e+00      8.000000       1449.000000  \n",
       "75%             1.000000e+01     12.000000       1848.000000  \n",
       "max             2.510000e+06    160.000000       2400.000000  "
      ]
     },
     "execution_count": 2,
     "metadata": {},
     "output_type": "execute_result"
    }
   ],
   "source": [
    "## Flight dataset\n",
    "\n",
    "parse_dates = ['FlightDate']\n",
    "\n",
    "flight_data = pd.read_csv('data/Flight_on_time_HIX.csv',\n",
    "                 parse_dates=parse_dates)\n",
    "\n",
    "print('Dataframe dimensions:', flight_data.shape)\n",
    "flight_data.info()\n",
    "flight_data.describe()\n",
    "\n"
   ]
  },
  {
   "cell_type": "code",
   "execution_count": 3,
   "metadata": {},
   "outputs": [
    {
     "data": {
      "text/html": [
       "<div>\n",
       "<style scoped>\n",
       "    .dataframe tbody tr th:only-of-type {\n",
       "        vertical-align: middle;\n",
       "    }\n",
       "\n",
       "    .dataframe tbody tr th {\n",
       "        vertical-align: top;\n",
       "    }\n",
       "\n",
       "    .dataframe thead th {\n",
       "        text-align: right;\n",
       "    }\n",
       "</style>\n",
       "<table border=\"1\" class=\"dataframe\">\n",
       "  <thead>\n",
       "    <tr style=\"text-align: right;\">\n",
       "      <th></th>\n",
       "      <th>Airline</th>\n",
       "      <th>Flight_Number</th>\n",
       "      <th>Plane_ID</th>\n",
       "      <th>FlightDate</th>\n",
       "      <th>Origin_Airport</th>\n",
       "      <th>Destination_Airport</th>\n",
       "      <th>Flight_Distance</th>\n",
       "      <th>Scheduled_Departure_Time</th>\n",
       "      <th>Actual_Departure_Time</th>\n",
       "      <th>Departure_Delay_Minutes</th>\n",
       "      <th>Departure_Taxi</th>\n",
       "      <th>Departure_WheelsOff</th>\n",
       "      <th>Scheduled_Arrival_Time</th>\n",
       "      <th>Actual_Arrival_Time</th>\n",
       "      <th>Arrival_Delay_Minutes</th>\n",
       "      <th>Arrival_Taxi</th>\n",
       "      <th>Arrival_WheelsOn</th>\n",
       "      <th>Delay_Reason</th>\n",
       "    </tr>\n",
       "  </thead>\n",
       "  <tbody>\n",
       "    <tr>\n",
       "      <th>0</th>\n",
       "      <td>TR</td>\n",
       "      <td>4135</td>\n",
       "      <td>GJLOAB</td>\n",
       "      <td>2019-12-01</td>\n",
       "      <td>IYF</td>\n",
       "      <td>HIX</td>\n",
       "      <td>678.0</td>\n",
       "      <td>1</td>\n",
       "      <td>103.0</td>\n",
       "      <td>62.0</td>\n",
       "      <td>15.0</td>\n",
       "      <td>118.0</td>\n",
       "      <td>127</td>\n",
       "      <td>219.0</td>\n",
       "      <td>52.0</td>\n",
       "      <td>7.0</td>\n",
       "      <td>212.0</td>\n",
       "      <td>LateAircraft</td>\n",
       "    </tr>\n",
       "    <tr>\n",
       "      <th>1</th>\n",
       "      <td>TR</td>\n",
       "      <td>3776</td>\n",
       "      <td>GDISCI</td>\n",
       "      <td>2019-12-01</td>\n",
       "      <td>HEN</td>\n",
       "      <td>HIX</td>\n",
       "      <td>1700.0</td>\n",
       "      <td>10</td>\n",
       "      <td>25.0</td>\n",
       "      <td>15.0</td>\n",
       "      <td>21.0</td>\n",
       "      <td>46.0</td>\n",
       "      <td>616</td>\n",
       "      <td>624.0</td>\n",
       "      <td>8.0</td>\n",
       "      <td>27.0</td>\n",
       "      <td>557.0</td>\n",
       "      <td>NaN</td>\n",
       "    </tr>\n",
       "    <tr>\n",
       "      <th>2</th>\n",
       "      <td>RO</td>\n",
       "      <td>4754</td>\n",
       "      <td>GHHWLL</td>\n",
       "      <td>2019-12-01</td>\n",
       "      <td>HIX</td>\n",
       "      <td>IZN</td>\n",
       "      <td>413.0</td>\n",
       "      <td>10</td>\n",
       "      <td>10.0</td>\n",
       "      <td>0.0</td>\n",
       "      <td>15.0</td>\n",
       "      <td>25.0</td>\n",
       "      <td>242</td>\n",
       "      <td>227.0</td>\n",
       "      <td>0.0</td>\n",
       "      <td>5.0</td>\n",
       "      <td>222.0</td>\n",
       "      <td>NaN</td>\n",
       "    </tr>\n",
       "    <tr>\n",
       "      <th>3</th>\n",
       "      <td>XM</td>\n",
       "      <td>5604</td>\n",
       "      <td>GBGWFC</td>\n",
       "      <td>2019-12-01</td>\n",
       "      <td>HIX</td>\n",
       "      <td>IZU</td>\n",
       "      <td>130.0</td>\n",
       "      <td>10</td>\n",
       "      <td>44.0</td>\n",
       "      <td>34.0</td>\n",
       "      <td>34.0</td>\n",
       "      <td>118.0</td>\n",
       "      <td>111</td>\n",
       "      <td>155.0</td>\n",
       "      <td>44.0</td>\n",
       "      <td>4.0</td>\n",
       "      <td>151.0</td>\n",
       "      <td>Weather</td>\n",
       "    </tr>\n",
       "    <tr>\n",
       "      <th>4</th>\n",
       "      <td>XM</td>\n",
       "      <td>5612</td>\n",
       "      <td>GBISBC</td>\n",
       "      <td>2019-12-01</td>\n",
       "      <td>HIX</td>\n",
       "      <td>LKF</td>\n",
       "      <td>258.0</td>\n",
       "      <td>10</td>\n",
       "      <td>234.0</td>\n",
       "      <td>144.0</td>\n",
       "      <td>26.0</td>\n",
       "      <td>300.0</td>\n",
       "      <td>132</td>\n",
       "      <td>358.0</td>\n",
       "      <td>146.0</td>\n",
       "      <td>6.0</td>\n",
       "      <td>352.0</td>\n",
       "      <td>Carrier</td>\n",
       "    </tr>\n",
       "  </tbody>\n",
       "</table>\n",
       "</div>"
      ],
      "text/plain": [
       "  Airline  Flight_Number Plane_ID FlightDate Origin_Airport  \\\n",
       "0      TR           4135   GJLOAB 2019-12-01            IYF   \n",
       "1      TR           3776   GDISCI 2019-12-01            HEN   \n",
       "2      RO           4754   GHHWLL 2019-12-01            HIX   \n",
       "3      XM           5604   GBGWFC 2019-12-01            HIX   \n",
       "4      XM           5612   GBISBC 2019-12-01            HIX   \n",
       "\n",
       "  Destination_Airport  Flight_Distance  Scheduled_Departure_Time  \\\n",
       "0                 HIX            678.0                         1   \n",
       "1                 HIX           1700.0                        10   \n",
       "2                 IZN            413.0                        10   \n",
       "3                 IZU            130.0                        10   \n",
       "4                 LKF            258.0                        10   \n",
       "\n",
       "   Actual_Departure_Time  Departure_Delay_Minutes  Departure_Taxi  \\\n",
       "0                  103.0                     62.0            15.0   \n",
       "1                   25.0                     15.0            21.0   \n",
       "2                   10.0                      0.0            15.0   \n",
       "3                   44.0                     34.0            34.0   \n",
       "4                  234.0                    144.0            26.0   \n",
       "\n",
       "   Departure_WheelsOff  Scheduled_Arrival_Time  Actual_Arrival_Time  \\\n",
       "0                118.0                     127                219.0   \n",
       "1                 46.0                     616                624.0   \n",
       "2                 25.0                     242                227.0   \n",
       "3                118.0                     111                155.0   \n",
       "4                300.0                     132                358.0   \n",
       "\n",
       "   Arrival_Delay_Minutes  Arrival_Taxi  Arrival_WheelsOn  Delay_Reason  \n",
       "0                   52.0           7.0             212.0  LateAircraft  \n",
       "1                    8.0          27.0             557.0           NaN  \n",
       "2                    0.0           5.0             222.0           NaN  \n",
       "3                   44.0           4.0             151.0       Weather  \n",
       "4                  146.0           6.0             352.0       Carrier  "
      ]
     },
     "execution_count": 3,
     "metadata": {},
     "output_type": "execute_result"
    }
   ],
   "source": [
    "flight_data.head()"
   ]
  },
  {
   "cell_type": "markdown",
   "metadata": {},
   "source": [
    "#### Weather Data \n",
    "1. Load the weather data\n",
    "2. Check the shape of the dataset and explore the types of columns\n",
    "3. Perform the basic statistics on the features to get a sense of feature means and ranges.\n"
   ]
  },
  {
   "cell_type": "code",
   "execution_count": 4,
   "metadata": {},
   "outputs": [
    {
     "name": "stdout",
     "output_type": "stream",
     "text": [
      "Dataframe dimensions: (1536, 21)\n",
      "<class 'pandas.core.frame.DataFrame'>\n",
      "RangeIndex: 1536 entries, 0 to 1535\n",
      "Data columns (total 21 columns):\n",
      " #   Column               Non-Null Count  Dtype         \n",
      "---  ------               --------------  -----         \n",
      " 0   Unnamed: 0           1536 non-null   int64         \n",
      " 1   airport              1536 non-null   object        \n",
      " 2   time                 1536 non-null   datetime64[ns]\n",
      " 3   summary              1536 non-null   object        \n",
      " 4   precipIntensity      1536 non-null   float64       \n",
      " 5   precipProbability    1536 non-null   float64       \n",
      " 6   temperature          1536 non-null   float64       \n",
      " 7   apparentTemperature  1536 non-null   float64       \n",
      " 8   dewPoint             1536 non-null   float64       \n",
      " 9   humidity             1536 non-null   float64       \n",
      " 10  pressure             1536 non-null   float64       \n",
      " 11  windSpeed            1536 non-null   float64       \n",
      " 12  windGust             1536 non-null   float64       \n",
      " 13  windBearing          1536 non-null   float64       \n",
      " 14  cloudCover           1536 non-null   float64       \n",
      " 15  uvIndex              1536 non-null   int64         \n",
      " 16  visibility           1536 non-null   float64       \n",
      " 17  ozone                1536 non-null   float64       \n",
      " 18  precipType           316 non-null    object        \n",
      " 19  precipAccumulation   81 non-null     float64       \n",
      " 20  time2                1536 non-null   object        \n",
      "dtypes: datetime64[ns](1), float64(14), int64(2), object(4)\n",
      "memory usage: 252.1+ KB\n"
     ]
    }
   ],
   "source": [
    "## Weather Data\n",
    "weather_path = 'data/weather.csv'\n",
    "weather_data = pd.read_csv(weather_path, parse_dates=['time'])\n",
    "\n",
    "print('Dataframe dimensions:', weather_data.shape)\n",
    "weather_data.info()"
   ]
  },
  {
   "cell_type": "code",
   "execution_count": 5,
   "metadata": {},
   "outputs": [
    {
     "data": {
      "text/html": [
       "<div>\n",
       "<style scoped>\n",
       "    .dataframe tbody tr th:only-of-type {\n",
       "        vertical-align: middle;\n",
       "    }\n",
       "\n",
       "    .dataframe tbody tr th {\n",
       "        vertical-align: top;\n",
       "    }\n",
       "\n",
       "    .dataframe thead th {\n",
       "        text-align: right;\n",
       "    }\n",
       "</style>\n",
       "<table border=\"1\" class=\"dataframe\">\n",
       "  <thead>\n",
       "    <tr style=\"text-align: right;\">\n",
       "      <th></th>\n",
       "      <th>precipIntensity</th>\n",
       "      <th>precipProbability</th>\n",
       "      <th>temperature</th>\n",
       "      <th>apparentTemperature</th>\n",
       "      <th>dewPoint</th>\n",
       "      <th>humidity</th>\n",
       "      <th>pressure</th>\n",
       "      <th>windSpeed</th>\n",
       "      <th>windGust</th>\n",
       "      <th>windBearing</th>\n",
       "      <th>cloudCover</th>\n",
       "      <th>uvIndex</th>\n",
       "      <th>visibility</th>\n",
       "      <th>ozone</th>\n",
       "      <th>precipAccumulation</th>\n",
       "    </tr>\n",
       "  </thead>\n",
       "  <tbody>\n",
       "    <tr>\n",
       "      <th>count</th>\n",
       "      <td>1536.000000</td>\n",
       "      <td>1536.000000</td>\n",
       "      <td>1536.000000</td>\n",
       "      <td>1536.000000</td>\n",
       "      <td>1536.000000</td>\n",
       "      <td>1536.000000</td>\n",
       "      <td>1536.000000</td>\n",
       "      <td>1536.000000</td>\n",
       "      <td>1536.000000</td>\n",
       "      <td>1536.000000</td>\n",
       "      <td>1536.000000</td>\n",
       "      <td>1536.000000</td>\n",
       "      <td>1536.000000</td>\n",
       "      <td>1536.000000</td>\n",
       "      <td>81.000000</td>\n",
       "    </tr>\n",
       "    <tr>\n",
       "      <th>mean</th>\n",
       "      <td>0.003304</td>\n",
       "      <td>0.117331</td>\n",
       "      <td>35.510918</td>\n",
       "      <td>29.115749</td>\n",
       "      <td>25.139629</td>\n",
       "      <td>0.675007</td>\n",
       "      <td>1016.511283</td>\n",
       "      <td>9.527930</td>\n",
       "      <td>11.326413</td>\n",
       "      <td>228.107328</td>\n",
       "      <td>0.598086</td>\n",
       "      <td>0.210938</td>\n",
       "      <td>9.083046</td>\n",
       "      <td>333.793210</td>\n",
       "      <td>0.044423</td>\n",
       "    </tr>\n",
       "    <tr>\n",
       "      <th>std</th>\n",
       "      <td>0.012533</td>\n",
       "      <td>0.303385</td>\n",
       "      <td>9.452021</td>\n",
       "      <td>12.087124</td>\n",
       "      <td>12.464821</td>\n",
       "      <td>0.155994</td>\n",
       "      <td>10.804320</td>\n",
       "      <td>4.448901</td>\n",
       "      <td>6.424565</td>\n",
       "      <td>82.520152</td>\n",
       "      <td>0.372036</td>\n",
       "      <td>0.420684</td>\n",
       "      <td>2.194884</td>\n",
       "      <td>30.406867</td>\n",
       "      <td>0.062452</td>\n",
       "    </tr>\n",
       "    <tr>\n",
       "      <th>min</th>\n",
       "      <td>0.000000</td>\n",
       "      <td>0.000000</td>\n",
       "      <td>11.530000</td>\n",
       "      <td>-2.150000</td>\n",
       "      <td>-13.040000</td>\n",
       "      <td>0.220000</td>\n",
       "      <td>985.900000</td>\n",
       "      <td>0.120000</td>\n",
       "      <td>0.260000</td>\n",
       "      <td>0.007128</td>\n",
       "      <td>0.000000</td>\n",
       "      <td>0.000000</td>\n",
       "      <td>0.498000</td>\n",
       "      <td>268.570000</td>\n",
       "      <td>0.001400</td>\n",
       "    </tr>\n",
       "    <tr>\n",
       "      <th>25%</th>\n",
       "      <td>0.000000</td>\n",
       "      <td>0.000000</td>\n",
       "      <td>29.850000</td>\n",
       "      <td>21.665000</td>\n",
       "      <td>17.982500</td>\n",
       "      <td>0.570000</td>\n",
       "      <td>1009.160000</td>\n",
       "      <td>6.460000</td>\n",
       "      <td>7.167500</td>\n",
       "      <td>190.030115</td>\n",
       "      <td>0.190000</td>\n",
       "      <td>0.000000</td>\n",
       "      <td>9.967750</td>\n",
       "      <td>310.827500</td>\n",
       "      <td>0.005600</td>\n",
       "    </tr>\n",
       "    <tr>\n",
       "      <th>50%</th>\n",
       "      <td>0.000000</td>\n",
       "      <td>0.000000</td>\n",
       "      <td>35.150000</td>\n",
       "      <td>28.445000</td>\n",
       "      <td>25.405000</td>\n",
       "      <td>0.700000</td>\n",
       "      <td>1018.075000</td>\n",
       "      <td>9.150000</td>\n",
       "      <td>10.250000</td>\n",
       "      <td>234.514672</td>\n",
       "      <td>0.690000</td>\n",
       "      <td>0.000000</td>\n",
       "      <td>10.000000</td>\n",
       "      <td>332.660000</td>\n",
       "      <td>0.016100</td>\n",
       "    </tr>\n",
       "    <tr>\n",
       "      <th>75%</th>\n",
       "      <td>0.000000</td>\n",
       "      <td>0.000000</td>\n",
       "      <td>40.490000</td>\n",
       "      <td>35.472500</td>\n",
       "      <td>32.330000</td>\n",
       "      <td>0.800000</td>\n",
       "      <td>1024.320000</td>\n",
       "      <td>12.100000</td>\n",
       "      <td>13.810000</td>\n",
       "      <td>291.075677</td>\n",
       "      <td>0.980000</td>\n",
       "      <td>0.000000</td>\n",
       "      <td>10.000000</td>\n",
       "      <td>353.605000</td>\n",
       "      <td>0.060000</td>\n",
       "    </tr>\n",
       "    <tr>\n",
       "      <th>max</th>\n",
       "      <td>0.129200</td>\n",
       "      <td>1.000000</td>\n",
       "      <td>62.120000</td>\n",
       "      <td>62.140000</td>\n",
       "      <td>55.840000</td>\n",
       "      <td>1.000000</td>\n",
       "      <td>1040.360000</td>\n",
       "      <td>24.770000</td>\n",
       "      <td>36.970000</td>\n",
       "      <td>359.077229</td>\n",
       "      <td>1.000000</td>\n",
       "      <td>2.000000</td>\n",
       "      <td>10.000000</td>\n",
       "      <td>423.560000</td>\n",
       "      <td>0.356200</td>\n",
       "    </tr>\n",
       "  </tbody>\n",
       "</table>\n",
       "</div>"
      ],
      "text/plain": [
       "       precipIntensity  precipProbability  temperature  apparentTemperature  \\\n",
       "count      1536.000000        1536.000000  1536.000000          1536.000000   \n",
       "mean          0.003304           0.117331    35.510918            29.115749   \n",
       "std           0.012533           0.303385     9.452021            12.087124   \n",
       "min           0.000000           0.000000    11.530000            -2.150000   \n",
       "25%           0.000000           0.000000    29.850000            21.665000   \n",
       "50%           0.000000           0.000000    35.150000            28.445000   \n",
       "75%           0.000000           0.000000    40.490000            35.472500   \n",
       "max           0.129200           1.000000    62.120000            62.140000   \n",
       "\n",
       "          dewPoint     humidity     pressure    windSpeed     windGust  \\\n",
       "count  1536.000000  1536.000000  1536.000000  1536.000000  1536.000000   \n",
       "mean     25.139629     0.675007  1016.511283     9.527930    11.326413   \n",
       "std      12.464821     0.155994    10.804320     4.448901     6.424565   \n",
       "min     -13.040000     0.220000   985.900000     0.120000     0.260000   \n",
       "25%      17.982500     0.570000  1009.160000     6.460000     7.167500   \n",
       "50%      25.405000     0.700000  1018.075000     9.150000    10.250000   \n",
       "75%      32.330000     0.800000  1024.320000    12.100000    13.810000   \n",
       "max      55.840000     1.000000  1040.360000    24.770000    36.970000   \n",
       "\n",
       "       windBearing   cloudCover      uvIndex   visibility        ozone  \\\n",
       "count  1536.000000  1536.000000  1536.000000  1536.000000  1536.000000   \n",
       "mean    228.107328     0.598086     0.210938     9.083046   333.793210   \n",
       "std      82.520152     0.372036     0.420684     2.194884    30.406867   \n",
       "min       0.007128     0.000000     0.000000     0.498000   268.570000   \n",
       "25%     190.030115     0.190000     0.000000     9.967750   310.827500   \n",
       "50%     234.514672     0.690000     0.000000    10.000000   332.660000   \n",
       "75%     291.075677     0.980000     0.000000    10.000000   353.605000   \n",
       "max     359.077229     1.000000     2.000000    10.000000   423.560000   \n",
       "\n",
       "       precipAccumulation  \n",
       "count           81.000000  \n",
       "mean             0.044423  \n",
       "std              0.062452  \n",
       "min              0.001400  \n",
       "25%              0.005600  \n",
       "50%              0.016100  \n",
       "75%              0.060000  \n",
       "max              0.356200  "
      ]
     },
     "execution_count": 5,
     "metadata": {},
     "output_type": "execute_result"
    }
   ],
   "source": [
    "weather_data.drop('Unnamed: 0', axis=1, inplace=True)\n",
    "weather_data.drop('time2', axis=1, inplace=True)\n",
    "\n",
    "weather_data.describe()"
   ]
  },
  {
   "cell_type": "code",
   "execution_count": 6,
   "metadata": {},
   "outputs": [
    {
     "name": "stdout",
     "output_type": "stream",
     "text": [
      "Nb of airports: 2\n",
      "(5256, 18)\n"
     ]
    }
   ],
   "source": [
    "# Data preprocessing\n",
    "# 1. Check the airports names in weather dataset.\n",
    "# 2. Replace the airport name to match the airport name in Flight dataset.\n",
    "# 3. Additional time features are added in order to identify possible trends.\n",
    "\n",
    "print(\"Nb of airports: {}\".format(len(weather_data['airport'].unique())))\n",
    "\n",
    "weather_data['Origin_Airport'] = weather_data['airport'].replace(['Highland'],'HIX')\n",
    "weather_data.loc[:, 'date'] = weather_data['time'].dt.date\n",
    "weather_data.loc[:, 'hour'] = weather_data['time'].dt.hour\n",
    "weather_data.head()\n",
    "\n",
    "# 1. Get flight data for Compass airline where origin airport airport is HIX.\n",
    "# 2. Additional time features are added in order to identify possible trends.\n",
    "# 3. Merge flight, weather datasets and save the file Based on date, hour and origin airport location.\n",
    "#    considering that the weather data avaliable instantly.\n",
    "# 4. Add additional column `flight_delayed` to the merged dataset which indicate if the flight has departure delay 15 minutes or more.\n",
    "# 5. Save the merged \n",
    "\n",
    "flight_data = flight_data.loc[(flight_data['Origin_Airport'] == 'HIX') & (flight_data['Airline'] == 'CA')]\n",
    "\n",
    "print(flight_data.shape)\n",
    "\n",
    "flight_data['hour'] = pd.to_datetime(flight_data['Scheduled_Departure_Time'], format='%H%M', errors='ignore').dt.hour\n",
    "flight_data['date'] = flight_data['FlightDate'].dt.date\n",
    "flight_data['day']=flight_data['FlightDate'].apply(lambda x:x.weekday()) \n",
    "\n",
    "\n",
    "\n",
    "\n",
    "flight_weather_data = flight_data.merge(weather_data, how='left', on=['date', 'hour','Origin_Airport'])\n",
    "flight_weather_data['flight_delayed'] = flight_weather_data['Departure_Delay_Minutes'].apply(lambda x: 1 if (x >= 15) else 0)\n",
    "\n",
    "\n",
    "flight_weather_data.to_csv('./data/merged_data.csv', index=False, float_format='%g')"
   ]
  },
  {
   "cell_type": "code",
   "execution_count": 7,
   "metadata": {},
   "outputs": [
    {
     "data": {
      "text/plain": [
       "Airline                        0\n",
       "Flight_Number                  0\n",
       "Plane_ID                       0\n",
       "FlightDate                     0\n",
       "Origin_Airport                 0\n",
       "Destination_Airport            0\n",
       "Flight_Distance                0\n",
       "Scheduled_Departure_Time       0\n",
       "Actual_Departure_Time          0\n",
       "Departure_Delay_Minutes        0\n",
       "Departure_Taxi                 0\n",
       "Departure_WheelsOff            0\n",
       "Scheduled_Arrival_Time         0\n",
       "Actual_Arrival_Time            0\n",
       "Arrival_Delay_Minutes          0\n",
       "Arrival_Taxi                   0\n",
       "Arrival_WheelsOn               0\n",
       "Delay_Reason                3940\n",
       "hour                           0\n",
       "date                           0\n",
       "day                            0\n",
       "airport                        0\n",
       "time                           0\n",
       "summary                        0\n",
       "precipIntensity                0\n",
       "precipProbability              0\n",
       "temperature                    0\n",
       "apparentTemperature            0\n",
       "dewPoint                       0\n",
       "humidity                       0\n",
       "pressure                       0\n",
       "windSpeed                      0\n",
       "windGust                       0\n",
       "windBearing                    0\n",
       "cloudCover                     0\n",
       "uvIndex                        0\n",
       "visibility                     0\n",
       "ozone                          0\n",
       "precipType                  4802\n",
       "precipAccumulation          5061\n",
       "flight_delayed                 0\n",
       "dtype: int64"
      ]
     },
     "execution_count": 7,
     "metadata": {},
     "output_type": "execute_result"
    }
   ],
   "source": [
    "flight_weather_data.isnull().sum()\n"
   ]
  },
  {
   "cell_type": "code",
   "execution_count": 8,
   "metadata": {},
   "outputs": [
    {
     "data": {
      "text/plain": [
       "(5256, 41)"
      ]
     },
     "execution_count": 8,
     "metadata": {},
     "output_type": "execute_result"
    }
   ],
   "source": [
    "flight_weather_data.shape"
   ]
  },
  {
   "cell_type": "markdown",
   "metadata": {},
   "source": [
    "## 3. Data Analysis \n",
    "Below are various charts to discover possible variables impacting flight delays."
   ]
  },
  {
   "cell_type": "markdown",
   "metadata": {},
   "source": [
    "### 3.1  Percentage of flights that are delayed."
   ]
  },
  {
   "cell_type": "code",
   "execution_count": 9,
   "metadata": {},
   "outputs": [
    {
     "name": "stdout",
     "output_type": "stream",
     "text": [
      "On-time flights percentage: 0.763%\n",
      "Delayed flights percentage: 0.237%\n"
     ]
    },
    {
     "data": {
      "image/png": "[encoded data removed]",
      "text/plain": [
       "<Figure size 432x288 with 1 Axes>"
      ]
     },
     "metadata": {},
     "output_type": "display_data"
    }
   ],
   "source": [
    "# Calculate the percentage of on time verse delayed flights. \n",
    "\n",
    "data = flight_weather_data.groupby(\"flight_delayed\")['flight_delayed'].count()\n",
    "print('On-time flights percentage: {:.3f}%'.format(data[0]/(data[0]+data[1])))\n",
    "print('Delayed flights percentage: {:.3f}%'.format(data[1]/(data[0]+data[1])))\n",
    "plt.pie(x=data, autopct=\"%.1f%%\", explode=[0.05]*2, labels=[\"On-time\",\"Delayed\"], pctdistance=0.2);\n"
   ]
  },
  {
   "cell_type": "markdown",
   "metadata": {},
   "source": [
    "`23.7` delayed flights for `CA` airlines where the destination or origin airport is `HIX`.\n",
    "\n",
    "We see `76.3%` of flights are on-time. Still, a fairly high proportion of `23.7%` of flights are delayed.\n",
    "* Note delayed here means 15 minutes or more late!\n",
    "\n"
   ]
  },
  {
   "cell_type": "code",
   "execution_count": 10,
   "metadata": {},
   "outputs": [
    {
     "data": {
      "image/png": "[encoded data removed]",
      "text/plain": [
       "<Figure size 1152x432 with 1 Axes>"
      ]
     },
     "metadata": {
      "needs_background": "light"
     },
     "output_type": "display_data"
    }
   ],
   "source": [
    "# Average Delay for flights per weekday.\n",
    "\n",
    "# Get delayed flights.\n",
    "# Group delayed flights per day and calculate the mean departure delay \n",
    "\n",
    "delayed_flights = flight_weather_data.loc[flight_weather_data['flight_delayed'] == 1]\n",
    "grouped = delayed_flights[['Departure_Delay_Minutes', 'day']].groupby('day').mean()\n",
    "\n",
    "plt.figure(figsize=(16, 6))\n",
    "days = ['Monday', 'Tuesday', 'Wednesday', 'Thursday', 'Friday', 'Saturday', 'Sunday']\n",
    "chart = sns.barplot(x=grouped.reset_index()[\"day\"], y='Departure_Delay_Minutes', data=grouped)\n",
    "chart.set_xticklabels(days)\n",
    "chart.set_xlabel('Day of Week')\n",
    "chart.set_ylabel('Departure Delay (min)')\n",
    "chart.set_title('Distribution of mean departure delay by day of week')\n",
    "plt.show()\n",
    "\n"
   ]
  },
  {
   "cell_type": "markdown",
   "metadata": {},
   "source": [
    "This chart shows the average departure delay in minutes for flight delays, grouped by day of week.\n",
    "It appears from the chart that  `Saturday`, `Tuesday`, and `Thursday` are the worst days to fly,\n",
    "with respect to the average flight delay.\n",
    "\n",
    "To ensure this is not due to a larger volume of flights on those days.\n",
    "I will plot the total number of flights per weekday in the dataset."
   ]
  },
  {
   "cell_type": "code",
   "execution_count": 11,
   "metadata": {},
   "outputs": [
    {
     "data": {
      "image/png": "[encoded data removed]",
      "text/plain": [
       "<Figure size 1152x432 with 1 Axes>"
      ]
     },
     "metadata": {
      "needs_background": "light"
     },
     "output_type": "display_data"
    }
   ],
   "source": [
    "# Average Delay for flights per weekday.\n",
    "\n",
    "# Get delayed flights.\n",
    "# Group delayed flights per day and calculate the mean departure delay \n",
    "\n",
    "delayed_flights = flight_weather_data.loc[flight_weather_data['flight_delayed'] == 1]\n",
    "grouped = delayed_flights[['Departure_Delay_Minutes', 'day']].groupby('day').count()\n",
    "\n",
    "plt.figure(figsize=(16, 6))\n",
    "days = ['Monday', 'Tuesday', 'Wednesday', 'Thursday', 'Friday', 'Saturday', 'Sunday']\n",
    "chart = sns.barplot(x=grouped.reset_index()[\"day\"], y='Departure_Delay_Minutes', data=grouped, ci=None)\n",
    "chart.set_xticklabels(days)\n",
    "chart.set_xlabel('Day of Week')\n",
    "chart.set_ylabel('Number of flights')\n",
    "chart.set_title('Distribution number of delayed flights by day of week')\n",
    "plt.show()\n",
    "\n"
   ]
  },
  {
   "cell_type": "markdown",
   "metadata": {},
   "source": [
    "There is not an obvious correlation between volume of flights and which days experience larger flight delays.\n",
    "This means the distribution of delayed flights is very skewed.\n"
   ]
  },
  {
   "cell_type": "code",
   "execution_count": 12,
   "metadata": {},
   "outputs": [
    {
     "data": {
      "image/png": "[encoded data removed]",
      "text/plain": [
       "<Figure size 1152x432 with 1 Axes>"
      ]
     },
     "metadata": {
      "needs_background": "light"
     },
     "output_type": "display_data"
    }
   ],
   "source": [
    "plt.figure(figsize=(16, 6))\n",
    "delayed_flights = flight_weather_data.loc[flight_weather_data['flight_delayed'] == 1]\n",
    "days = ['Monday', 'Tuesday', 'Wednesday', 'Thursday', 'Friday', 'Saturday', 'Sunday']\n",
    "chart = sns.boxenplot(x='day', y='Departure_Delay_Minutes', data=delayed_flights)\n",
    "chart.set_xticklabels(days)\n",
    "chart.set_xlabel('Day of Week')\n",
    "chart.set_ylabel('Departure Delay (min)')\n",
    "chart.set_title('Distribution of departure delay by day of week')\n",
    "plt.show()"
   ]
  },
  {
   "cell_type": "markdown",
   "metadata": {},
   "source": [
    "The above chart shows a more detailed distribution of delayed flights per each weekday.\n",
    "\n",
    "This shows that `Tuesday` has some extremely large outlier values that play a role in their higher average flight delays.\n",
    "\n",
    "\n",
    "Also `Saturday` and `Sunday` have \"wider\" and \"higher\" blocks at moderately higher flight delay levels. This contributes to the higher average flight delays and tells us that outliers alone are not fully to blame for the higher average delays on these days."
   ]
  },
  {
   "cell_type": "code",
   "execution_count": 13,
   "metadata": {},
   "outputs": [
    {
     "data": {
      "text/plain": [
       "Airline                        0\n",
       "Flight_Number                  0\n",
       "Plane_ID                       0\n",
       "FlightDate                     0\n",
       "Origin_Airport                 0\n",
       "Destination_Airport            0\n",
       "Flight_Distance                0\n",
       "Scheduled_Departure_Time       0\n",
       "Actual_Departure_Time          0\n",
       "Departure_Delay_Minutes        0\n",
       "Departure_Taxi                 0\n",
       "Departure_WheelsOff            0\n",
       "Scheduled_Arrival_Time         0\n",
       "Actual_Arrival_Time            0\n",
       "Arrival_Delay_Minutes          0\n",
       "Arrival_Taxi                   0\n",
       "Arrival_WheelsOn               0\n",
       "Delay_Reason                3940\n",
       "hour                           0\n",
       "date                           0\n",
       "day                            0\n",
       "airport                        0\n",
       "time                           0\n",
       "summary                        0\n",
       "precipIntensity                0\n",
       "precipProbability              0\n",
       "temperature                    0\n",
       "apparentTemperature            0\n",
       "dewPoint                       0\n",
       "humidity                       0\n",
       "pressure                       0\n",
       "windSpeed                      0\n",
       "windGust                       0\n",
       "windBearing                    0\n",
       "cloudCover                     0\n",
       "uvIndex                        0\n",
       "visibility                     0\n",
       "ozone                          0\n",
       "precipType                  4802\n",
       "precipAccumulation          5061\n",
       "flight_delayed                 0\n",
       "dtype: int64"
      ]
     },
     "execution_count": 13,
     "metadata": {},
     "output_type": "execute_result"
    }
   ],
   "source": [
    "\n",
    "\n",
    "flight_weather_data.isnull().sum()\n",
    "\n"
   ]
  },
  {
   "cell_type": "code",
   "execution_count": 14,
   "metadata": {},
   "outputs": [],
   "source": [
    "## Fill the missing data \n",
    "# According to the feature describtion empty `precipType` means clear weather, and empty `precipAccumulation` means zero.\n",
    "\n",
    "\n",
    "flight_weather_data[\"precipType\"].fillna(\"clear\", inplace = True)\n",
    "flight_weather_data[\"precipAccumulation\"].fillna(0, inplace = True)\n"
   ]
  },
  {
   "cell_type": "code",
   "execution_count": 15,
   "metadata": {},
   "outputs": [
    {
     "data": {
      "image/png": "[encoded data removed]",
      "text/plain": [
       "<Figure size 1296x720 with 3 Axes>"
      ]
     },
     "metadata": {
      "needs_background": "light"
     },
     "output_type": "display_data"
    }
   ],
   "source": [
    "# create sub-plots for a few weather conditions\n",
    "delayed_flights = flight_weather_data.loc[flight_weather_data['flight_delayed'] == 1]\n",
    "\n",
    "ax = plt.subplot(221)\n",
    "grouped = flight_weather_data['flight_delayed'].groupby(flight_weather_data['precipType']).value_counts()\n",
    "g = grouped.groupby(level=0).apply(lambda x: 100 * x / float(x.sum()))\n",
    "chart = g.unstack().plot(kind='bar', stacked=True, figsize=(18, 10), ax=ax)\n",
    "chart.set_xticklabels(flight_weather_data['precipType'].unique(), rotation=0)\n",
    "chart.set_xlabel('Precipitation types')\n",
    "chart.set_ylabel('Proportion delayed')\n",
    "\n",
    "\n",
    "temperature_range = pd.qcut(flight_weather_data['temperature'], q=[0, 0.33, 0.66, 1])\n",
    "ax = plt.subplot(222)\n",
    "grouped = flight_weather_data['flight_delayed'].groupby(temperature_range).value_counts()\n",
    "g = grouped.groupby(level=0).apply(lambda x: 100 * x / float(x.sum()))\n",
    "chart = g.unstack().plot(kind='bar', stacked=True, figsize=(18, 10), ax=ax)\n",
    "chart.set_xticklabels([\"(11.529, 30.44)\", \"(30.44, 39.0)\",\"(39.0, 61.75)\"], rotation=0)\n",
    "chart.set_xlabel('Temperature')\n",
    "chart.set_ylabel('Proportion delayed')\n",
    "\n",
    "windSpeed_labels = pd.qcut(flight_weather_data['windSpeed'], q=[0, 0.33, 0.66, 1])\n",
    "\n",
    "ax = plt.subplot(223)\n",
    "grouped = flight_weather_data['flight_delayed'].groupby(windSpeed_labels).value_counts()\n",
    "g = grouped.groupby(level=0).apply(lambda x: 100 * x / float(x.sum()))\n",
    "chart = g.unstack().plot(kind='bar', stacked=True, figsize=(18, 10), ax=ax)\n",
    "chart.set_xticklabels(windSpeed_labels.unique(), rotation=0)\n",
    "chart.set_xlabel('windSpeed_labels')\n",
    "chart.set_ylabel('Proportion delayed')\n",
    "\n",
    "plt.show()"
   ]
  },
  {
   "cell_type": "markdown",
   "metadata": {},
   "source": [
    "It seems some weather events have an impact on flight delays.\n",
    "Such as: \n",
    "1. `Precipitation types` when it is snow the number of delayed flights increased.\n",
    "2. `Wind speeds` appear to impact flights once it gets above 9 MPHs. \n",
    "3. `Temperatures` between 11-30 degrees show increased impact on delays.\n"
   ]
  },
  {
   "cell_type": "code",
   "execution_count": 16,
   "metadata": {},
   "outputs": [],
   "source": [
    "### Save data to csv file.\n",
    "flight_weather_data.to_csv('data/combined_data.csv', index=False)"
   ]
  },
  {
   "cell_type": "markdown",
   "metadata": {},
   "source": [
    "## Prediction of Flight Delays"
   ]
  },
  {
   "cell_type": "code",
   "execution_count": 17,
   "metadata": {},
   "outputs": [],
   "source": [
    "# import \n",
    "from time import time\n",
    "import itertools\n",
    "import warnings\n",
    "warnings.filterwarnings('ignore')\n",
    "import pandas as pd\n",
    "import numpy as np\n",
    "import scipy\n",
    "from sklearn.model_selection import cross_validate,GridSearchCV\n",
    "\n",
    "from sklearn import ensemble, tree, metrics, preprocessing\n",
    "from sklearn.model_selection import train_test_split\n",
    "from sklearn.naive_bayes import GaussianNB\n",
    "import xgboost as xgb\n",
    "from datetime import datetime, date\n",
    "import matplotlib.pylab as plt\n",
    "%matplotlib inline\n",
    "from matplotlib.pylab import rcParams\n",
    "le = preprocessing.LabelEncoder()\n",
    "rcParams['figure.figsize'] = 12, 4"
   ]
  },
  {
   "cell_type": "code",
   "execution_count": 18,
   "metadata": {},
   "outputs": [],
   "source": [
    "# load data \n",
    "training = pd.read_csv('data/combined_data.csv')\n"
   ]
  },
  {
   "cell_type": "code",
   "execution_count": 19,
   "metadata": {},
   "outputs": [
    {
     "name": "stdout",
     "output_type": "stream",
     "text": [
      "Airline                      object\n",
      "Flight_Number                 int64\n",
      "Plane_ID                     object\n",
      "FlightDate                   object\n",
      "Origin_Airport               object\n",
      "Destination_Airport          object\n",
      "Flight_Distance             float64\n",
      "Scheduled_Departure_Time      int64\n",
      "Actual_Departure_Time       float64\n",
      "Departure_Delay_Minutes     float64\n",
      "Departure_Taxi              float64\n",
      "Departure_WheelsOff         float64\n",
      "Scheduled_Arrival_Time        int64\n",
      "Actual_Arrival_Time         float64\n",
      "Arrival_Delay_Minutes       float64\n",
      "Arrival_Taxi                float64\n",
      "Arrival_WheelsOn            float64\n",
      "Delay_Reason                 object\n",
      "hour                          int64\n",
      "date                         object\n",
      "day                           int64\n",
      "airport                      object\n",
      "time                         object\n",
      "summary                      object\n",
      "precipIntensity             float64\n",
      "precipProbability           float64\n",
      "temperature                 float64\n",
      "apparentTemperature         float64\n",
      "dewPoint                    float64\n",
      "humidity                    float64\n",
      "pressure                    float64\n",
      "windSpeed                   float64\n",
      "windGust                    float64\n",
      "windBearing                 float64\n",
      "cloudCover                  float64\n",
      "uvIndex                       int64\n",
      "visibility                  float64\n",
      "ozone                       float64\n",
      "precipType                   object\n",
      "precipAccumulation          float64\n",
      "flight_delayed                int64\n",
      "dtype: object\n"
     ]
    }
   ],
   "source": [
    "# check data types\n",
    "print (training.dtypes)\n"
   ]
  },
  {
   "cell_type": "code",
   "execution_count": 20,
   "metadata": {},
   "outputs": [
    {
     "name": "stdout",
     "output_type": "stream",
     "text": [
      "Airline                       int64\n",
      "Flight_Number                 int64\n",
      "Plane_ID                      int64\n",
      "Origin_Airport                int64\n",
      "Destination_Airport           int64\n",
      "Flight_Distance             float64\n",
      "Scheduled_Departure_Time      int64\n",
      "Actual_Departure_Time       float64\n",
      "Departure_Delay_Minutes     float64\n",
      "Departure_Taxi              float64\n",
      "Departure_WheelsOff         float64\n",
      "Scheduled_Arrival_Time        int64\n",
      "Actual_Arrival_Time         float64\n",
      "Arrival_Delay_Minutes       float64\n",
      "Arrival_Taxi                float64\n",
      "Arrival_WheelsOn            float64\n",
      "Delay_Reason                 object\n",
      "hour                          int64\n",
      "date                         object\n",
      "day                           int64\n",
      "airport                      object\n",
      "summary                       int64\n",
      "precipIntensity             float64\n",
      "precipProbability           float64\n",
      "temperature                 float64\n",
      "apparentTemperature         float64\n",
      "dewPoint                    float64\n",
      "humidity                    float64\n",
      "pressure                    float64\n",
      "windSpeed                   float64\n",
      "windGust                    float64\n",
      "windBearing                 float64\n",
      "cloudCover                  float64\n",
      "uvIndex                       int64\n",
      "visibility                  float64\n",
      "ozone                       float64\n",
      "precipType                    int64\n",
      "precipAccumulation          float64\n",
      "flight_delayed                int64\n",
      "dtype: object\n"
     ]
    }
   ],
   "source": [
    "# encode string class,Categorical values as integers \n",
    "training.Airline = le.fit_transform(training.Airline)\n",
    "training.Plane_ID = le.fit_transform(training.Plane_ID)\n",
    "training.Origin_Airport = le.fit_transform(training.Origin_Airport)\n",
    "training.Destination_Airport = le.fit_transform(training.Destination_Airport)\n",
    "training.precipType = le.fit_transform(training.precipType)\n",
    "training.summary = le.fit_transform(training.summary)\n",
    "\n",
    "# delete time data\n",
    "training.drop('time', axis =1, inplace = True)\n",
    "training.drop('FlightDate', axis =1, inplace = True)\n",
    "\n",
    "\n",
    "\n",
    "print (training.dtypes)\n"
   ]
  },
  {
   "cell_type": "code",
   "execution_count": 21,
   "metadata": {},
   "outputs": [],
   "source": [
    "# Define the features to use\n",
    "## Excluding any feature that is related to departure except `Scheduled_Departure_Time` because prior to departure we \n",
    "## can't know any of them.\n",
    "\n",
    "features = [c for c in training.columns if c in [\n",
    " 'Flight_Number'\n",
    ",'Plane_ID'\n",
    ",'Origin_Airport'\n",
    ",'Destination_Airport'\n",
    ",'Flight_Distance'\n",
    ",'Scheduled_Departure_Time'\n",
    ",'Scheduled_Arrival_Time'\n",
    ",'precipIntensity'\n",
    ",'precipProbability'\n",
    ",'temperature'\n",
    ",'apparentTemperature'\n",
    ",'dewPoint'\n",
    ",'humidity'\n",
    ",'pressure'\n",
    ",'windSpeed'\n",
    ",'windGust'\n",
    ",'windBearing'\n",
    ",'cloudCover'\n",
    ",'uvIndex'\n",
    ",'visibility'\n",
    ",'ozone'\n",
    ",'precipType'\n",
    ",'precipAccumulation'\n",
    ",'day'\n",
    ",'hour']]"
   ]
  },
  {
   "cell_type": "code",
   "execution_count": 22,
   "metadata": {},
   "outputs": [],
   "source": [
    "## split the data \n",
    "train_ratio = 0.70\n",
    "validation_ratio = 0.15\n",
    "test_ratio = 0.15\n",
    "\n",
    "# train is now 70% of the entire data set\n",
    "# the _junk suffix means that we drop that variable completely\n",
    "x_train, x_test, y_train, y_test = train_test_split(training[features], training['flight_delayed'], test_size=1 - train_ratio, random_state=42)\n",
    "\n",
    "# test is now 15% of the initial data set\n",
    "# validation is now 15% of the initial data set\n",
    "x_val, x_test, y_val, y_test = train_test_split(x_test, y_test, test_size=test_ratio/(test_ratio + validation_ratio),random_state=42) \n",
    "\n",
    "\n"
   ]
  },
  {
   "cell_type": "code",
   "execution_count": 23,
   "metadata": {},
   "outputs": [
    {
     "name": "stdout",
     "output_type": "stream",
     "text": [
      "(3679, 25) (788, 25) (789, 25)\n",
      "(3679,) (788,) (789,)\n"
     ]
    }
   ],
   "source": [
    "print(x_train.shape, x_val.shape, x_test.shape)\n",
    "print(y_train.shape, y_val.shape, y_test.shape)\n"
   ]
  },
  {
   "cell_type": "code",
   "execution_count": 24,
   "metadata": {},
   "outputs": [
    {
     "name": "stdout",
     "output_type": "stream",
     "text": [
      "Confusion matrix\n",
      "     0   1\n",
      "0  503  74\n",
      "1  179  33\n",
      "\n",
      "precision = 0.31\n",
      "recall = 0.16\n",
      "F1 = 0.21\n",
      "AUC Score = 0.61\n",
      "\n"
     ]
    }
   ],
   "source": [
    "# Running a quick naive bayes classifier on the smallest training set\n",
    "naive = GaussianNB().fit(x_train, y_train)\n",
    "naive_pred = naive.predict(x_test)\n",
    "naive_probs = naive.predict_proba(x_test)\n",
    "\n",
    "# Creates confustion matrix and prints it out\n",
    "cm = metrics.confusion_matrix(y_test, naive_pred)\n",
    "print(\"Confusion matrix\")\n",
    "print(pd.DataFrame(cm))\n",
    "\n",
    "#Creates and print out the precision, recall, f1, and auc scores \n",
    "report_rf = metrics.precision_recall_fscore_support(list(y_test), \n",
    "                                                    list(naive_pred), \n",
    "                                                    average='binary')\n",
    "print (\"\\nprecision = %0.2f\\nrecall = %0.2f\\nF1 = %0.2f\\nAUC Score = %0.2f\\n\" % \\\n",
    "        (report_rf[0], \n",
    "         report_rf[1], \n",
    "         report_rf[2], \n",
    "         metrics.roc_auc_score(list(y_test.values), list(naive_probs[:,1]))))"
   ]
  },
  {
   "cell_type": "code",
   "execution_count": 25,
   "metadata": {},
   "outputs": [
    {
     "name": "stdout",
     "output_type": "stream",
     "text": [
      "Confusion matrix\n",
      "     0   1\n",
      "0  526  66\n",
      "1  161  35\n",
      "\n",
      "precision = 0.35\n",
      "recall = 0.18\n",
      "F1 = 0.24\n",
      "AUC Score = 0.64\n",
      "\n"
     ]
    }
   ],
   "source": [
    "# Evaluate\n",
    "naive_pred = naive.predict(x_val)\n",
    "naive_probs = naive.predict_proba(x_val)\n",
    "\n",
    "# Creates confustion matrix and prints it out\n",
    "cm = metrics.confusion_matrix(y_val, naive_pred)\n",
    "print(\"Confusion matrix\")\n",
    "print(pd.DataFrame(cm))\n",
    "\n",
    "#Creates and print out the precision, recall, f1, and auc scores \n",
    "report_rf = metrics.precision_recall_fscore_support(list(y_val), \n",
    "                                                    list(naive_pred), \n",
    "                                                    average='binary')\n",
    "print (\"\\nprecision = %0.2f\\nrecall = %0.2f\\nF1 = %0.2f\\nAUC Score = %0.2f\\n\" % \\\n",
    "        (report_rf[0], \n",
    "         report_rf[1], \n",
    "         report_rf[2], \n",
    "         metrics.roc_auc_score(list(y_val.values), list(naive_probs[:,1]))))"
   ]
  },
  {
   "cell_type": "code",
   "execution_count": 26,
   "metadata": {},
   "outputs": [
    {
     "name": "stdout",
     "output_type": "stream",
     "text": [
      "Confusion matrix\n",
      "     0   1\n",
      "0  557  20\n",
      "1  183  29\n",
      "\n",
      "precision = 0.59\n",
      "recall = 0.14\n",
      "F1 = 0.22\n",
      "AUC Score = 0.68\n",
      "\n"
     ]
    }
   ],
   "source": [
    "# Based on the parameters found in the Grid Search\n",
    "# build on the smallest set of training and testing data\n",
    "forest = ensemble.RandomForestClassifier(n_estimators=200, \n",
    "                             min_samples_leaf=5, \n",
    "                             n_jobs=-1).fit(x_train, y_train)\n",
    "\n",
    "\n",
    "forest_pred = forest.predict(x_test)\n",
    "forest_probs = forest.predict_proba(x_test)\n",
    "\n",
    "# Creates confustion matrix and prints it out\n",
    "cm = metrics.confusion_matrix(y_test, forest_pred)\n",
    "print(\"Confusion matrix\")\n",
    "print(pd.DataFrame(cm))\n",
    "\n",
    "#Creates and print out the precision, recall, f1, and auc scores \n",
    "report_rf = metrics.precision_recall_fscore_support(list(y_test), \n",
    "                                                    list(forest_pred), \n",
    "                                                    average='binary')\n",
    "\n",
    "print (\"\\nprecision = %0.2f\\nrecall = %0.2f\\nF1 = %0.2f\\nAUC Score = %0.2f\\n\" % \\\n",
    "        (report_rf[0], \n",
    "         report_rf[1], \n",
    "         report_rf[2], \n",
    "         metrics.roc_auc_score(list(y_test.values), list(forest_probs[:, 1]))))"
   ]
  },
  {
   "cell_type": "code",
   "execution_count": 27,
   "metadata": {},
   "outputs": [
    {
     "name": "stdout",
     "output_type": "stream",
     "text": [
      "Confusion matrix\n",
      "     0   1\n",
      "0  562  30\n",
      "1  157  39\n",
      "\n",
      "precision = 0.57\n",
      "recall = 0.20\n",
      "F1 = 0.29\n",
      "AUC Score = 0.68\n",
      "\n"
     ]
    }
   ],
   "source": [
    "# Evaluate \n",
    "forest_pred = forest.predict(x_val)\n",
    "forest_probs = forest.predict_proba(x_val)\n",
    "\n",
    "# Creates confustion matrix and prints it out\n",
    "cm = metrics.confusion_matrix(y_val, forest_pred)\n",
    "print(\"Confusion matrix\")\n",
    "print(pd.DataFrame(cm))\n",
    "\n",
    "#Creates and print out the precision, recall, f1, and auc scores \n",
    "report_rf = metrics.precision_recall_fscore_support(list(y_val), \n",
    "                                                    list(forest_pred), \n",
    "                                                    average='binary')\n",
    "\n",
    "print (\"\\nprecision = %0.2f\\nrecall = %0.2f\\nF1 = %0.2f\\nAUC Score = %0.2f\\n\" % \\\n",
    "        (report_rf[0], \n",
    "         report_rf[1], \n",
    "         report_rf[2], \n",
    "         metrics.roc_auc_score(list(y_val.values), list(forest_probs[:, 1]))))"
   ]
  },
  {
   "cell_type": "code",
   "execution_count": 28,
   "metadata": {},
   "outputs": [],
   "source": [
    "## The function takes in a XGBoost model, feature, and labels and then performs cross validation.\n",
    "## It also returns accuracy, AUC score, and the best number of estimators for the model. \n",
    "## It quits after 50 rounds of no improvement.\n",
    "def modelfit(alg, features, labels, useTrainCV=True, cv_folds=5, \n",
    "             early_stopping_rounds=50):\n",
    "    \n",
    "    if useTrainCV:\n",
    "        xgb_param = alg.get_xgb_params()\n",
    "        xgtrain = xgb.DMatrix(features.values, label=labels.values)\n",
    "        cvresult = xgb.cv(xgb_param, xgtrain, num_boost_round=alg.get_params()['n_estimators'], \n",
    "                          nfold=cv_folds,\n",
    "            metrics=['auc'], early_stopping_rounds=early_stopping_rounds)\n",
    "        alg.set_params(n_estimators=cvresult.shape[0])\n",
    "    \n",
    "    #Fit the algorithm on the data\n",
    "    alg.fit(features, labels, eval_metric='auc')\n",
    "        \n",
    "    #Predict training set:\n",
    "    dtrain_predictions = alg.predict(features)\n",
    "    dtrain_predprob = alg.predict_proba(features)[:,1]\n",
    "        \n",
    "    #Print model report:\n",
    "    print (\"\\nModel Report\")\n",
    "    print (\"Accuracy : %.4g\" % metrics.accuracy_score(labels.values, dtrain_predictions))\n",
    "    print (\"AUC Score: %f\" % metrics.roc_auc_score(labels, dtrain_predprob))\n",
    "    feat_imp = pd.Series(alg.get_booster().get_fscore()).sort_values(ascending=False)\n",
    "    feat_imp.plot(kind='bar', title='Feature Importances')\n",
    "    plt.ylabel('Feature Importance Score')"
   ]
  },
  {
   "cell_type": "code",
   "execution_count": 33,
   "metadata": {},
   "outputs": [
    {
     "name": "stdout",
     "output_type": "stream",
     "text": [
      "\n",
      "Model Report\n",
      "Accuracy : 0.8241\n",
      "AUC Score: 0.898115\n"
     ]
    },
    {
     "data": {
      "image/png": "[encoded data removed]",
      "text/plain": [
       "<Figure size 864x288 with 1 Axes>"
      ]
     },
     "metadata": {
      "needs_background": "light"
     },
     "output_type": "display_data"
    }
   ],
   "source": [
    "# Create an Extreme Gradient Boosting classifier and feed it into the model fit function\n",
    "boost =  xgb.XGBClassifier(\n",
    " learning_rate = .1,\n",
    " n_estimators=1000,\n",
    " max_depth=5,\n",
    " min_child_weight=1,\n",
    " gamma=0,\n",
    " subsample=0.8,\n",
    " colsample_bytree=0.8,\n",
    " objective= 'binary:logistic',\n",
    " nthread=4,\n",
    " scale_pos_weight=1,\n",
    " seed=27)\n",
    "modelfit(boost, x_train, labels_train_1)"
   ]
  },
  {
   "cell_type": "markdown",
   "metadata": {},
   "source": [
    "### The above figure shows the most important features "
   ]
  },
  {
   "cell_type": "code",
   "execution_count": 34,
   "metadata": {},
   "outputs": [
    {
     "name": "stdout",
     "output_type": "stream",
     "text": [
      "Confusion matrix\n",
      "     0   1\n",
      "0  570  22\n",
      "1  160  36\n",
      "\n",
      "precision = 0.62\n",
      "recall = 0.18\n",
      "F1 = 0.28\n",
      "AUC Score = 0.70\n",
      "\n"
     ]
    }
   ],
   "source": [
    "# Evaluate \n",
    "boost_pred = boost.predict(x_val)\n",
    "boost_probs = boost.predict_proba(x_val)\n",
    "\n",
    "# Creates confustion matrix and prints it out\n",
    "cm = metrics.confusion_matrix(y_val, boost_pred)\n",
    "print(\"Confusion matrix\")\n",
    "print(pd.DataFrame(cm))\n",
    "\n",
    "#Creates and print out the precision, recall, f1, and auc scores \n",
    "report_rf = metrics.precision_recall_fscore_support(list(y_val), \n",
    "                                                    list(boost_pred), average='binary')\n",
    "\n",
    "print (\"\\nprecision = %0.2f\\nrecall = %0.2f\\nF1 = %0.2f\\nAUC Score = %0.2f\\n\" % \\\n",
    "        (report_rf[0], \n",
    "         report_rf[1], \n",
    "         report_rf[2], \n",
    "         metrics.roc_auc_score(list(y_val.values), boost_probs[:,1])))"
   ]
  },
  {
   "cell_type": "code",
   "execution_count": 31,
   "metadata": {},
   "outputs": [
    {
     "data": {
      "image/png": "[encoded data removed]",
      "text/plain": [
       "<Figure size 864x288 with 1 Axes>"
      ]
     },
     "metadata": {
      "needs_background": "light"
     },
     "output_type": "display_data"
    }
   ],
   "source": [
    "# Creating and plotting the ROC Curve\n",
    "\n",
    "plt.title('Receiver Operating Characteristic')\n",
    "# Compute ROC curve and area the curve\n",
    "fpr, tpr, thresholds = metrics.roc_curve(list(y_val), naive_probs[:, 1])\n",
    "naive_roc_auc = metrics.auc(fpr, tpr)\n",
    "plt.plot(fpr, tpr, 'b', label='Naive AUC = %0.2f'% naive_roc_auc)\n",
    "\n",
    "fpr, tpr, thresholds = metrics.roc_curve(list(y_val), forest_probs[:, 1])\n",
    "forest_roc_auc = metrics.auc(fpr, tpr)\n",
    "plt.plot(fpr, tpr, 'c', label='Forest AUC = %0.2f'% forest_roc_auc)\n",
    "\n",
    "fpr, tpr, thresholds = metrics.roc_curve(list(y_val), boost_probs[:, 1])\n",
    "boost_roc_auc = metrics.auc(fpr, tpr)\n",
    "plt.plot(fpr, tpr, 'm', label='XGBoost AUC = %0.2f'% boost_roc_auc)\n",
    "\n",
    "plt.legend(loc='lower right')\n",
    "plt.plot([0,1],[0,1],'r--')\n",
    "plt.xlim([-0.1,1.2])\n",
    "plt.ylim([-0.1,1.2])\n",
    "plt.ylabel('True Positive Rate')\n",
    "plt.xlabel('False Positive Rate')\n",
    "plt.show()"
   ]
  },
  {
   "cell_type": "markdown",
   "metadata": {},
   "source": [
    "The XGBoost AUC gets up to `0.70`"
   ]
  },
  {
   "cell_type": "markdown",
   "metadata": {},
   "source": [
    "## Future Work\n",
    "Here are the ideas for future enhancements:\n",
    "### 1. Data \n",
    "Using a bigger data set will improve the prediction accuracy because it will eliminate the risk of overfitting/underfitting\n",
    "### 2. Data insights \n",
    "1. Extend the analysis of features to investigate the potential relationship between multiple features to both proportions of flights delayed as well as the duration of flight delays.\n",
    " \n",
    "### 3. Hyperparameter optimization\n",
    "Try different methods to determine the best parameters for `xgboost` algorithm. [reference](https://blog.cambridgespark.com/hyperparameter-tuning-in-xgboost-4ff9100a3b2f)\n",
    "### 4. Clustering Approaches\n",
    "Try the deep learning clustering approach and compare the performance "
   ]
  },
  {
   "cell_type": "code",
   "execution_count": null,
   "metadata": {},
   "outputs": [],
   "source": []
  }
 ],
 "metadata": {
  "kernelspec": {
   "display_name": "Python 3",
   "language": "python",
   "name": "python3"
  },
  "language_info": {
   "codemirror_mode": {
    "name": "ipython",
    "version": 3
   },
   "file_extension": ".py",
   "mimetype": "text/x-python",
   "name": "python",
   "nbconvert_exporter": "python",
   "pygments_lexer": "ipython3",
   "version": "3.8.9"
  }
 },
 "nbformat": 4,
 "nbformat_minor": 4
}
